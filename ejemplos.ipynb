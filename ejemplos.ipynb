{
 "cells": [
  {
   "cell_type": "code",
   "execution_count": 1,
   "metadata": {},
   "outputs": [
    {
     "name": "stdout",
     "output_type": "stream",
     "text": [
      "       vendorid tpep_pickup_datetime tpep_dropoff_datetime  passenger_count  \\\n",
      "0  VeriFone Inc  2024-01-01 00:57:55   2024-01-01 01:17:43              1.0   \n",
      "1  VeriFone Inc  2024-01-01 00:57:55   2024-01-01 01:17:43              1.0   \n",
      "2  VeriFone Inc  2024-01-01 00:57:55   2024-01-01 01:17:43              1.0   \n",
      "3  VeriFone Inc  2024-01-01 00:57:55   2024-01-01 01:17:43              1.0   \n",
      "4  VeriFone Inc  2024-01-01 00:57:55   2024-01-01 01:17:43              1.0   \n",
      "\n",
      "   trip_distance  pulocationid  dolocationid payment_type  fare_amount  \\\n",
      "0           1.72           186            79         Cash         17.7   \n",
      "1           1.72           186            79         Cash         17.7   \n",
      "2           1.72           186            79         Cash         17.7   \n",
      "3           1.72           186            79         Cash         17.7   \n",
      "4           1.72           186            79         Cash         17.7   \n",
      "\n",
      "   total_amount                          zone    borough  trip_duration  \\\n",
      "0          22.7  Penn Station/Madison Sq West  Manhattan           19.8   \n",
      "1          22.7  Penn Station/Madison Sq West  Manhattan           19.8   \n",
      "2          22.7  Penn Station/Madison Sq West  Manhattan           19.8   \n",
      "3          22.7  Penn Station/Madison Sq West  Manhattan           19.8   \n",
      "4          22.7  Penn Station/Madison Sq West  Manhattan           19.8   \n",
      "\n",
      "   pickup_hour distance_bin  \n",
      "0            0          1-2  \n",
      "1            0          1-2  \n",
      "2            0          1-2  \n",
      "3            0          1-2  \n",
      "4            0          1-2  \n"
     ]
    }
   ],
   "source": [
    "import pandas as pd\n",
    "\n",
    "# Leer archivo Parquet\n",
    "df = pd.read_parquet('taxis_clean.parquet')\n",
    "\n",
    "# Mostrar las primeras filas del DataFrame\n",
    "print(df.head())\n"
   ]
  }
 ],
 "metadata": {
  "kernelspec": {
   "display_name": "Python 3",
   "language": "python",
   "name": "python3"
  },
  "language_info": {
   "codemirror_mode": {
    "name": "ipython",
    "version": 3
   },
   "file_extension": ".py",
   "mimetype": "text/x-python",
   "name": "python",
   "nbconvert_exporter": "python",
   "pygments_lexer": "ipython3",
   "version": "3.9.13"
  }
 },
 "nbformat": 4,
 "nbformat_minor": 2
}
